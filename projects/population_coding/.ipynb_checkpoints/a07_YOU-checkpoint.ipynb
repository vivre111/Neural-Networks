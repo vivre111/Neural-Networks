{
 "cells": [
  {
   "cell_type": "markdown",
   "metadata": {},
   "source": [
    "# A07 Q2: Population Coding"
   ]
  },
  {
   "cell_type": "code",
   "execution_count": 1,
   "metadata": {},
   "outputs": [],
   "source": [
    "import numpy as np\n",
    "import matplotlib.pylab as plt\n",
    "from Network import *"
   ]
  },
  {
   "cell_type": "markdown",
   "metadata": {},
   "source": [
    "# A. `Decoding` Layer"
   ]
  },
  {
   "cell_type": "code",
   "execution_count": 2,
   "metadata": {},
   "outputs": [],
   "source": [
    "class Encoding(Layer):\n",
    "    def __init__(self, nodes, dim=1, domain=[-1,1], act=Logistic):\n",
    "        '''\n",
    "         enc = Encoding(nodes, dim=1, domain=[-1,1], act=Logistic)\n",
    "         \n",
    "         Creates a population for encoding values of dimension dim\n",
    "         in a chosen domain. The domain specifies what range of values\n",
    "         to expect to encode.\n",
    "         \n",
    "         Inputs:\n",
    "          nodes   number of neurons in the population\n",
    "          dim     dimensionality of the encoded data\n",
    "          domain  set of valid values for encoding\n",
    "          act     activation function to apply to input currents\n",
    "          \n",
    "         Usage:\n",
    "          enc = Encoding(10, dim=1)\n",
    "          A = enc([[0.5], [0.9], [-0.2]])\n",
    "         returns a (3,10) array of neuron activities, and\n",
    "          B = enc( np.linspace(-1., 1, 100)[:,np.newaxis] )\n",
    "         returns a (100,10) array regularly sampled from -1 to 1.\n",
    "        '''\n",
    "        self.nodes = nodes\n",
    "        self.dim = dim\n",
    "        self.domain = domain\n",
    "        self.act = act()\n",
    "        self.E = Connection(from_nodes=self.dim, to_nodes=self.nodes, bias='random')\n",
    "    \n",
    "    def __call__(self, z):\n",
    "        return self.act(self.E(z))\n",
    "    \n",
    "    \n",
    "class Decoding(Layer):\n",
    "    def __init__(self, pre, function):\n",
    "        '''\n",
    "         dec = Decoding(pre, function)\n",
    "         \n",
    "         Creates a decoding layer that decodes a function from pre.\n",
    "         \n",
    "         Inputs:\n",
    "          pre       the pre-synaptic Encoding layer\n",
    "          function  the function being decoded\n",
    "        \n",
    "         The function must have the calling signature\n",
    "          function(x)\n",
    "         where x is a 1D vector (array or list) with dimensions (pre.dim,)\n",
    "         and returns a 1D array (or list).\n",
    "         \n",
    "         Usage:\n",
    "          dec = Decoding( pre , function=(lambda x: [np.sin(x[0])] ) )\n",
    "          y = dec(A)  # where A are the activities of the Encoding layer pre\n",
    "        '''\n",
    "        self.pre = pre\n",
    "        self.compute_decoding_weights(function)  # sets self.D\n",
    "  \n",
    "    def __call__(self, z):\n",
    "        return self.D(z)  # self.D is a Connection object\n",
    "    \n",
    "    def compute_decoding_weights(self, function):\n",
    "        '''\n",
    "         dec.compute_decoding_weights(function)\n",
    "         \n",
    "         Computes the optimal linear decoding weights to decode\n",
    "         the function from values encoded in dec.pre.\n",
    "        '''\n",
    "        #===== YOUR CODE HERE =====\n",
    "        # Choose a bunch of inputs to feed into pre.\n",
    "        # Compute the corresponding targets for those inputs.\n",
    "        # Feed those inputs into pre.\n",
    "        # Solve for the linear decoding weights.\n",
    "        # Create the Connection object self.D, and set the weights\n",
    "        pass\n"
   ]
  },
  {
   "cell_type": "code",
   "execution_count": null,
   "metadata": {},
   "outputs": [],
   "source": []
  },
  {
   "cell_type": "markdown",
   "metadata": {},
   "source": [
    "# B. Demonstrate 1D encoding/decoding"
   ]
  },
  {
   "cell_type": "code",
   "execution_count": 3,
   "metadata": {},
   "outputs": [],
   "source": [
    "# Encode x, and decode sinc(x)\n"
   ]
  },
  {
   "cell_type": "code",
   "execution_count": 4,
   "metadata": {
    "scrolled": true
   },
   "outputs": [],
   "source": [
    "# Plot the performance of your network\n"
   ]
  },
  {
   "cell_type": "markdown",
   "metadata": {},
   "source": [
    "# C. Demonstrate 2D encoding/decoding"
   ]
  },
  {
   "cell_type": "code",
   "execution_count": 5,
   "metadata": {},
   "outputs": [],
   "source": [
    "# Create Network that:\n",
    "# - encodes theta in A -> a\n",
    "# - decodes (cos(a), sin(a)) and encodes in B -> (b_1, b_2)\n",
    "# - decodes max(b_1, b_2) -> y\n"
   ]
  },
  {
   "cell_type": "code",
   "execution_count": 6,
   "metadata": {},
   "outputs": [],
   "source": [
    "# Plot your network output, and the true function\n"
   ]
  },
  {
   "cell_type": "code",
   "execution_count": null,
   "metadata": {},
   "outputs": [],
   "source": []
  }
 ],
 "metadata": {
  "kernelspec": {
   "display_name": "Python 3",
   "language": "python",
   "name": "python3"
  },
  "language_info": {
   "codemirror_mode": {
    "name": "ipython",
    "version": 3
   },
   "file_extension": ".py",
   "mimetype": "text/x-python",
   "name": "python",
   "nbconvert_exporter": "python",
   "pygments_lexer": "ipython3",
   "version": "3.8.3"
  },
  "toc": {
   "nav_menu": {},
   "number_sections": true,
   "sideBar": true,
   "skip_h1_title": false,
   "title_cell": "Table of Contents",
   "title_sidebar": "Contents",
   "toc_cell": false,
   "toc_position": {},
   "toc_section_display": true,
   "toc_window_display": false
  }
 },
 "nbformat": 4,
 "nbformat_minor": 2
}
