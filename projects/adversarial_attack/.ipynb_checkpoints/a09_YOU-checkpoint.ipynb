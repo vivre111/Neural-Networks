{
 "cells": [
  {
   "cell_type": "markdown",
   "metadata": {},
   "source": [
    "# A10 Q2: Adversarial Attacks"
   ]
  },
  {
   "cell_type": "code",
   "execution_count": null,
   "metadata": {},
   "outputs": [],
   "source": [
    "# Standard imports\n",
    "import numpy as np\n",
    "import torch\n",
    "import torch.nn as nn\n",
    "import torchvision\n",
    "import torchvision.transforms as T\n",
    "import matplotlib.pyplot as plt\n",
    "from tqdm import tqdm"
   ]
  },
  {
   "cell_type": "code",
   "execution_count": null,
   "metadata": {},
   "outputs": [],
   "source": [
    "# In case you are fortunate enough to have access to a GPU...\n",
    "device = 'cuda' if torch.cuda.is_available() else 'cpu'"
   ]
  },
  {
   "cell_type": "code",
   "execution_count": null,
   "metadata": {},
   "outputs": [],
   "source": []
  },
  {
   "cell_type": "markdown",
   "metadata": {},
   "source": [
    "# Dataset: flattened MNIST"
   ]
  },
  {
   "cell_type": "code",
   "execution_count": null,
   "metadata": {},
   "outputs": [],
   "source": [
    "# You can change img_size to 14 if you want to use smaller (14x14) images.\n",
    "img_size = 28\n",
    "ds_full = torchvision.datasets.MNIST('./files/', train=True, download=True,\n",
    "                            transform=T.Compose([\n",
    "                                T.Resize((img_size,img_size)),\n",
    "                                T.ToTensor(),\n",
    "                                T.Lambda((lambda x: torch.flatten(x))),\n",
    "                            ]))"
   ]
  },
  {
   "cell_type": "code",
   "execution_count": null,
   "metadata": {},
   "outputs": [],
   "source": [
    "# You can change img_size to 14 if you want to use smaller (14x14) images.\n",
    "img_size = 28\n",
    "ds_test = torchvision.datasets.MNIST('./files/', train=False, download=True,\n",
    "                            transform=T.Compose([\n",
    "                                T.Resize((img_size,img_size)),\n",
    "                                T.ToTensor(),\n",
    "                                T.Lambda((lambda x: torch.flatten(x))),\n",
    "                            ]))"
   ]
  },
  {
   "cell_type": "code",
   "execution_count": null,
   "metadata": {},
   "outputs": [],
   "source": [
    "def draw(x):\n",
    "    '''Displays a flattened MNIST digit'''\n",
    "    with torch.no_grad():\n",
    "        plt.imshow(x.cpu().numpy().reshape((img_size,img_size)), cmap='gray');\n",
    "        plt.axis('off');"
   ]
  },
  {
   "cell_type": "code",
   "execution_count": null,
   "metadata": {},
   "outputs": [],
   "source": [
    "x,t = ds_full.__getitem__(50001)\n",
    "draw(x)"
   ]
  },
  {
   "cell_type": "code",
   "execution_count": null,
   "metadata": {},
   "outputs": [],
   "source": [
    "ds = ds_full\n",
    "#ds = torch.utils.data.Subset(ds_full, range(1024))"
   ]
  },
  {
   "cell_type": "markdown",
   "metadata": {},
   "source": [
    "# Obtain trained network\n",
    "You can train the network yourself. However, if you would rather skip that part, a pre-trained network is supplied. That is what will be run by default."
   ]
  },
  {
   "cell_type": "code",
   "execution_count": null,
   "metadata": {},
   "outputs": [],
   "source": [
    "class MyNet(nn.Module):\n",
    "    '''\n",
    "     net = MyNet(img_size=28)\n",
    "     \n",
    "     Creates a neural network to do classification on MNIST.\n",
    "     It assumes the images will be (img_size)x(img_size).\n",
    "     \n",
    "     The output of the network is the log of the 10 class probabilities\n",
    "     (ie. log-softmax). Correspondingly, this network uses the\n",
    "     negative log-likelihood loss function (nn.NLLLoss).\n",
    "    '''\n",
    "    def __init__(self, img_size=28):\n",
    "        super().__init__()\n",
    "        self.lyrs = nn.Sequential(\n",
    "            nn.Linear(img_size**2, 100), nn.ReLU(),\n",
    "            nn.Linear(100, 10), nn.LogSoftmax(dim=-1),\n",
    "            )\n",
    "        self.loss_fcn = nn.NLLLoss()\n",
    "        self.losses = []\n",
    "        self.to(device)\n",
    "        \n",
    "        \n",
    "    def forward(self, x):\n",
    "        return self.lyrs(x)\n",
    "    \n",
    "    \n",
    "    def learn(self, dl, optimizer=None, epochs=10):\n",
    "        '''\n",
    "         net.learn(dl, optimizer=None, epochs=10)\n",
    "         \n",
    "         Train the network on the dataset represented by the DataLoader dl.\n",
    "         The default optimizer is Adam().\n",
    "         \n",
    "         The targets for the dataset are assumed to be class indices.\n",
    "        '''\n",
    "        if optimizer is None:\n",
    "            print('Need to specify an optimizer and loss function')\n",
    "            return\n",
    "        \n",
    "        for epoch in tqdm(range(epochs)):\n",
    "            total_loss = 0.\n",
    "            count = 0.\n",
    "            for x, t in dl:\n",
    "                x = x.to(device)   # for use with a GPU\n",
    "                t = t.to(device)\n",
    "                y = self(x)\n",
    "                loss = self.loss_fcn(y, t)\n",
    "                optimizer.zero_grad()\n",
    "                loss.backward()\n",
    "                optimizer.step()\n",
    "                total_loss += loss.detach().numpy()\n",
    "                count += 1.\n",
    "            self.losses.append(total_loss/len(dl))\n",
    "            #print(f'Epoch: {epoch}, loss: {total_loss/count}')\n",
    "        plt.figure(figsize=(4,4))\n",
    "        plt.plot(self.losses); plt.yscale('log');"
   ]
  },
  {
   "cell_type": "code",
   "execution_count": null,
   "metadata": {},
   "outputs": [],
   "source": [
    "net = MyNet(img_size)"
   ]
  },
  {
   "cell_type": "code",
   "execution_count": null,
   "metadata": {},
   "outputs": [],
   "source": [
    "# Uncomment these lines if you want to train it yourself.\n",
    "#dl = torch.utils.data.DataLoader(ds, batch_size=64, shuffle=True)\n",
    "#net.learn(dl, optimizer=torch.optim.Adam(net.parameters(), lr=0.001), epochs=200)"
   ]
  },
  {
   "cell_type": "code",
   "execution_count": null,
   "metadata": {},
   "outputs": [],
   "source": [
    "# Uncomment this line to save your network.\n",
    "#torch.save(net.cpu(), 'mnist_trained.pt')"
   ]
  },
  {
   "cell_type": "code",
   "execution_count": null,
   "metadata": {},
   "outputs": [],
   "source": [
    "# Use the line below to load a pre-trained network from a file.\n",
    "# Note that the MyNet class should be defined first.\n",
    "net = torch.load('mnist_trained.pt').to(device)"
   ]
  },
  {
   "cell_type": "code",
   "execution_count": null,
   "metadata": {},
   "outputs": [],
   "source": [
    "# If you'd like some confidence that the network is well trained, you can\n",
    "# test its accuracy.\n",
    "# The supplied network should have a test accuracy over 97%.\n",
    "\n",
    "def accuracy(net, dl):\n",
    "    total_correct = 0.\n",
    "    for x,t in dl:\n",
    "        y = net(x.to(device))\n",
    "        blah = torch.argmax(y.cpu(), dim=1)\n",
    "        total_correct += torch.sum(blah==t).cpu().item()\n",
    "    return total_correct/len(dl.dataset)\n",
    "\n",
    "dl_test = torch.utils.data.DataLoader(ds_test, batch_size=256)\n",
    "acc = accuracy(net, dl_test)\n",
    "print(f'Accuracy = {acc*100.:0.2f}%')\n",
    "\n",
    "# Classify a random digit\n",
    "idx = np.random.randint(len(ds_test))\n",
    "x, t = ds_test.__getitem__(idx)\n",
    "y = net(x)\n",
    "draw(x)\n",
    "plt.title(f'Predicted: {torch.argmax(y).detach().numpy()}, True: {t.detach().numpy()}');"
   ]
  },
  {
   "cell_type": "markdown",
   "metadata": {},
   "source": [
    "# A. `fgsm` Method"
   ]
  },
  {
   "cell_type": "code",
   "execution_count": null,
   "metadata": {},
   "outputs": [],
   "source": [
    "def fgsm(net, x, t, eps=0.01, targ=False):\n",
    "    '''\n",
    "        x_adv = FGSM(net, x, t, eps=0.01, targ=False)\n",
    "        \n",
    "        Performs the Fast Gradient Sign Method, perturbing each input by\n",
    "        eps (in infinity norm) in an attempt to have it misclassified.\n",
    "        \n",
    "        Inputs:\n",
    "          net    PyTorch Module object\n",
    "          x      (D,I) tensor containing a batch of D inputs\n",
    "          t      tensor of D corresponding class indices\n",
    "          eps    the maximum infinity-norm perturbation from the input\n",
    "          targ   Boolean, indicating if the FGSM is targetted\n",
    "                   - if targ is False, then t is considered to be the true\n",
    "                     class of the input, and FGSM will work to increase the cost\n",
    "                     for that target\n",
    "                   - if targ is True, then t is considered to be the target\n",
    "                     class for the perturbation, and FGSM will work to decrease the\n",
    "                     cost of the output for that target class\n",
    "        \n",
    "        Output:\n",
    "          x_adv  tensor of a batch of adversarial inputs, the same size as x\n",
    "    '''\n",
    "\n",
    "    # You probably want to create a copy of x so you can work with it.\n",
    "    x_adv = x.clone().to(device)\n",
    "    \n",
    "    #===== YOUR CODE HERE =====\n",
    "    \n",
    "    return x_adv"
   ]
  },
  {
   "cell_type": "code",
   "execution_count": null,
   "metadata": {},
   "outputs": [],
   "source": []
  },
  {
   "cell_type": "markdown",
   "metadata": {},
   "source": [
    "# B. Untargetted Adversarial Attack"
   ]
  },
  {
   "cell_type": "code",
   "execution_count": null,
   "metadata": {},
   "outputs": [],
   "source": [
    "# Create a batch consisting of one correctly-classified digit\n",
    "# from each class.\n",
    "x = torch.zeros((10, img_size**2))  # replace these lines\n",
    "t = torch.arange(start=0, end=10)\n"
   ]
  },
  {
   "cell_type": "code",
   "execution_count": null,
   "metadata": {},
   "outputs": [],
   "source": [
    "# Call fgsm on that batch\n"
   ]
  },
  {
   "cell_type": "code",
   "execution_count": null,
   "metadata": {},
   "outputs": [],
   "source": [
    "# Display all 10 digits, including the true class/probability,\n",
    "# and the predicted class/probability.\n",
    "plt.figure(figsize=(14,7))\n",
    "for n,xx in enumerate(x):\n",
    "    plt.subplot(2,5,n+1); draw(xx);\n",
    "    plt.title(f'Title', fontsize=16)\n",
    "plt.tight_layout()\n"
   ]
  },
  {
   "cell_type": "markdown",
   "metadata": {},
   "source": [
    "# C. Targetted Adversarial Attack"
   ]
  },
  {
   "cell_type": "code",
   "execution_count": null,
   "metadata": {},
   "outputs": [],
   "source": [
    "# Targetted Adversarial Attack\n",
    "# Choose 3 inputs (different classes)\n"
   ]
  },
  {
   "cell_type": "code",
   "execution_count": null,
   "metadata": {},
   "outputs": [],
   "source": []
  }
 ],
 "metadata": {
  "kernelspec": {
   "display_name": "Python 3 (ipykernel)",
   "language": "python",
   "name": "python3"
  },
  "language_info": {
   "codemirror_mode": {
    "name": "ipython",
    "version": 3
   },
   "file_extension": ".py",
   "mimetype": "text/x-python",
   "name": "python",
   "nbconvert_exporter": "python",
   "pygments_lexer": "ipython3",
   "version": "3.9.4"
  }
 },
 "nbformat": 4,
 "nbformat_minor": 4
}
